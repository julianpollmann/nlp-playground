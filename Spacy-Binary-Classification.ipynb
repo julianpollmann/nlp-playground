{
 "cells": [
  {
   "cell_type": "code",
   "execution_count": 1,
   "id": "09dfb45c",
   "metadata": {},
   "outputs": [],
   "source": [
    "from spacy.tokens import DocBin\n",
    "from ml_datasets import imdb\n",
    "from tqdm import tqdm\n",
    "import matplotlib.pyplot as plt\n",
    "import spacy\n",
    "import pandas as pd\n",
    "import seaborn as sns"
   ]
  },
  {
   "cell_type": "code",
   "execution_count": 2,
   "id": "218c372b",
   "metadata": {},
   "outputs": [],
   "source": [
    "train_data, valid_data = imdb()"
   ]
  },
  {
   "cell_type": "code",
   "execution_count": 3,
   "id": "346b2a77",
   "metadata": {},
   "outputs": [],
   "source": [
    "df_train = pd.DataFrame(train_data, columns =['Review', 'Sentiment'])\n",
    "df_validation = pd.DataFrame(valid_data, columns =['Review', 'Sentiment'])"
   ]
  },
  {
   "cell_type": "code",
   "execution_count": 4,
   "id": "3299d7e0",
   "metadata": {
    "scrolled": true
   },
   "outputs": [
    {
     "data": {
      "text/html": [
       "<div>\n",
       "<style scoped>\n",
       "    .dataframe tbody tr th:only-of-type {\n",
       "        vertical-align: middle;\n",
       "    }\n",
       "\n",
       "    .dataframe tbody tr th {\n",
       "        vertical-align: top;\n",
       "    }\n",
       "\n",
       "    .dataframe thead th {\n",
       "        text-align: right;\n",
       "    }\n",
       "</style>\n",
       "<table border=\"1\" class=\"dataframe\">\n",
       "  <thead>\n",
       "    <tr style=\"text-align: right;\">\n",
       "      <th></th>\n",
       "      <th>Review</th>\n",
       "      <th>Sentiment</th>\n",
       "    </tr>\n",
       "  </thead>\n",
       "  <tbody>\n",
       "    <tr>\n",
       "      <th>0</th>\n",
       "      <td>The first time I saw this film, I was in shock...</td>\n",
       "      <td>pos</td>\n",
       "    </tr>\n",
       "    <tr>\n",
       "      <th>1</th>\n",
       "      <td>I caught this movie on Sci-Fi before heading i...</td>\n",
       "      <td>neg</td>\n",
       "    </tr>\n",
       "    <tr>\n",
       "      <th>2</th>\n",
       "      <td>As I said in my comment about the first part: ...</td>\n",
       "      <td>pos</td>\n",
       "    </tr>\n",
       "    <tr>\n",
       "      <th>3</th>\n",
       "      <td>I grew up on this classic western series, and ...</td>\n",
       "      <td>pos</td>\n",
       "    </tr>\n",
       "    <tr>\n",
       "      <th>4</th>\n",
       "      <td>49. PAPERHOUSE (thriller/horror, 1988) Sick in...</td>\n",
       "      <td>pos</td>\n",
       "    </tr>\n",
       "  </tbody>\n",
       "</table>\n",
       "</div>"
      ],
      "text/plain": [
       "                                              Review Sentiment\n",
       "0  The first time I saw this film, I was in shock...       pos\n",
       "1  I caught this movie on Sci-Fi before heading i...       neg\n",
       "2  As I said in my comment about the first part: ...       pos\n",
       "3  I grew up on this classic western series, and ...       pos\n",
       "4  49. PAPERHOUSE (thriller/horror, 1988) Sick in...       pos"
      ]
     },
     "execution_count": 4,
     "metadata": {},
     "output_type": "execute_result"
    }
   ],
   "source": [
    "df_train.head()"
   ]
  },
  {
   "cell_type": "code",
   "execution_count": 5,
   "id": "01c32996",
   "metadata": {},
   "outputs": [
    {
     "data": {
      "text/plain": [
       "array(['pos', 'neg'], dtype=object)"
      ]
     },
     "execution_count": 5,
     "metadata": {},
     "output_type": "execute_result"
    }
   ],
   "source": [
    "df_train['Sentiment'].unique()"
   ]
  },
  {
   "cell_type": "code",
   "execution_count": 6,
   "id": "06d4c87d",
   "metadata": {
    "scrolled": false
   },
   "outputs": [
    {
     "data": {
      "text/plain": [
       "<AxesSubplot: xlabel='Sentiment', ylabel='count'>"
      ]
     },
     "execution_count": 6,
     "metadata": {},
     "output_type": "execute_result"
    },
    {
     "data": {
      "image/png": "[encoded data removed]",
      "text/plain": [
       "<Figure size 640x480 with 1 Axes>"
      ]
     },
     "metadata": {},
     "output_type": "display_data"
    }
   ],
   "source": [
    "sns.countplot(x=df_train['Sentiment'])"
   ]
  },
  {
   "cell_type": "markdown",
   "id": "7ef681e3",
   "metadata": {},
   "source": [
    "## Preprocessing Text"
   ]
  },
  {
   "cell_type": "code",
   "execution_count": 7,
   "id": "60b815ad",
   "metadata": {},
   "outputs": [],
   "source": [
    "def remove_new_line(text):\n",
    "    return text.replace('\\n', ' ')"
   ]
  },
  {
   "cell_type": "code",
   "execution_count": 8,
   "id": "78d12f7e",
   "metadata": {},
   "outputs": [],
   "source": [
    "df_train['Review'] = df_train['Review'].apply(remove_new_line)\n",
    "df_validation['Review'] = df_validation['Review'].apply(remove_new_line)"
   ]
  },
  {
   "cell_type": "markdown",
   "id": "8d5be917",
   "metadata": {},
   "source": [
    "## Create spaCy Docs"
   ]
  },
  {
   "cell_type": "code",
   "execution_count": 9,
   "id": "a96a0501",
   "metadata": {},
   "outputs": [],
   "source": [
    "nlp = spacy.load('en_core_web_sm')"
   ]
  },
  {
   "cell_type": "code",
   "execution_count": 10,
   "id": "42de38f9",
   "metadata": {},
   "outputs": [],
   "source": [
    "def make_docs(dataframe):\n",
    "    docs = []\n",
    "    data = list(dataframe.itertuples(index=False, name=None))\n",
    "    \n",
    "    for doc, label in tqdm(nlp.pipe(data, as_tuples=True), total=len(data)):\n",
    "        if label == 'pos':\n",
    "            doc.cats['positive'] = 1\n",
    "            doc.cats['negative'] = 0\n",
    "        else:\n",
    "            doc.cats['positive'] = 0\n",
    "            doc.cats['negative'] = 1\n",
    "        docs.append(doc)\n",
    "    \n",
    "    return docs"
   ]
  },
  {
   "cell_type": "code",
   "execution_count": 11,
   "id": "3aa2ab92",
   "metadata": {},
   "outputs": [
    {
     "name": "stderr",
     "output_type": "stream",
     "text": [
      "100%|██████████| 1000/1000 [00:27<00:00, 36.24it/s]\n",
      "100%|██████████| 1000/1000 [00:24<00:00, 40.77it/s]\n"
     ]
    }
   ],
   "source": [
    "training_number = 1000\n",
    "\n",
    "train_docs = make_docs(df_train[:training_number])\n",
    "doc_bin = DocBin(docs=train_docs)\n",
    "doc_bin.to_disk('./data/train.spacy')\n",
    "\n",
    "valid_docs = make_docs(df_validation[:training_number])\n",
    "doc_bin = DocBin(docs=valid_docs)\n",
    "doc_bin.to_disk('./data/valid.spacy')"
   ]
  },
  {
   "cell_type": "markdown",
   "id": "6bfe00df",
   "metadata": {},
   "source": [
    "## Create Training Config\n",
    "Create a base config file using spaCy's [online config generator](https://spacy.io/usage/training#quickstart).\n",
    "Select `textcat` as Component and exclusive categories. Choosing exlucsive categories will lead to prediction of one and only one category. Leave Hardware as CPU since we're using a non-transformer architecture. Copy the generated config to `base_config.cfg`"
   ]
  },
  {
   "cell_type": "code",
   "execution_count": 12,
   "id": "88f98d74",
   "metadata": {},
   "outputs": [
    {
     "name": "stdout",
     "output_type": "stream",
     "text": [
      "\u001b[38;5;2m✔ Auto-filled config with all values\u001b[0m\r\n",
      "\u001b[38;5;2m✔ Saved config\u001b[0m\r\n",
      "config.cfg\r\n",
      "You can now add your data and train your pipeline:\r\n",
      "python -m spacy train config.cfg --paths.train ./train.spacy --paths.dev ./dev.spacy\r\n"
     ]
    }
   ],
   "source": [
    "!python -m spacy init fill-config ./base_config.cfg ./config.cfg"
   ]
  },
  {
   "cell_type": "code",
   "execution_count": 13,
   "id": "d9838934",
   "metadata": {},
   "outputs": [
    {
     "name": "stdout",
     "output_type": "stream",
     "text": [
      "\u001b[38;5;4mℹ Saving to output directory: output\u001b[0m\n",
      "\u001b[38;5;4mℹ Using CPU\u001b[0m\n",
      "\u001b[1m\n",
      "=========================== Initializing pipeline ===========================\u001b[0m\n",
      "[2022-10-08 21:21:49,015] [INFO] Set up nlp object from config\n",
      "[2022-10-08 21:21:49,022] [INFO] Pipeline: ['textcat']\n",
      "[2022-10-08 21:21:49,024] [INFO] Created vocabulary\n",
      "[2022-10-08 21:21:49,024] [INFO] Finished initializing nlp object\n",
      "[2022-10-08 21:21:52,354] [INFO] Initialized pipeline components: ['textcat']\n",
      "\u001b[38;5;2m✔ Initialized pipeline\u001b[0m\n",
      "\u001b[1m\n",
      "============================= Training pipeline =============================\u001b[0m\n",
      "\u001b[38;5;4mℹ Pipeline: ['textcat']\u001b[0m\n",
      "\u001b[38;5;4mℹ Initial learn rate: 0.001\u001b[0m\n",
      "E    #       LOSS TEXTCAT  CATS_SCORE  SCORE \n",
      "---  ------  ------------  ----------  ------\n",
      "  0       0          0.25       32.80    0.33\n",
      "  0     200         63.69       53.41    0.53\n",
      "  0     400         45.57       76.70    0.77\n",
      "  0     600         29.05       78.57    0.79\n",
      "  0     800         32.15       80.66    0.81\n",
      "  1    1000         29.66       77.30    0.77\n",
      "  1    1200          2.54       81.18    0.81\n",
      "  1    1400          2.50       81.55    0.82\n",
      "  1    1600          4.47       82.05    0.82\n",
      "  1    1800          2.89       80.85    0.81\n",
      "  2    2000          4.72       80.38    0.80\n",
      "  2    2200          0.12       80.62    0.81\n",
      "  2    2400          0.09       81.16    0.81\n",
      "  2    2600          0.48       82.18    0.82\n",
      "  2    2800          0.28       81.99    0.82\n",
      "  3    3000          0.03       81.15    0.81\n",
      "  3    3200          0.03       81.79    0.82\n",
      "  3    3400          0.02       81.76    0.82\n",
      "  4    3600          0.01       82.28    0.82\n",
      "  4    3800          0.01       81.69    0.82\n",
      "  5    4000          0.01       82.18    0.82\n",
      "  6    4200          0.01       82.08    0.82\n",
      "  6    4400          0.01       82.18    0.82\n",
      "  7    4600          0.01       82.18    0.82\n",
      "  7    4800          0.01       82.19    0.82\n",
      "  8    5000          0.00       82.09    0.82\n",
      "  9    5200          0.01       82.19    0.82\n",
      "\u001b[38;5;2m✔ Saved pipeline to output directory\u001b[0m\n",
      "output/model-last\n"
     ]
    }
   ],
   "source": [
    "!python -m spacy train config.cfg --output ./output"
   ]
  },
  {
   "cell_type": "markdown",
   "id": "775ad638",
   "metadata": {},
   "source": [
    "## Testing"
   ]
  },
  {
   "cell_type": "code",
   "execution_count": 14,
   "id": "e1a7ac15",
   "metadata": {},
   "outputs": [],
   "source": [
    "nlp = spacy.load('./output/model-best')"
   ]
  },
  {
   "cell_type": "code",
   "execution_count": 15,
   "id": "d5dbd02d",
   "metadata": {},
   "outputs": [],
   "source": [
    "text = df_train.at[6000, 'Review']\n",
    "label_true = df_train.at[6000, 'Sentiment']"
   ]
  },
  {
   "cell_type": "code",
   "execution_count": 16,
   "id": "f13e5315",
   "metadata": {},
   "outputs": [],
   "source": [
    "doc = nlp(text)"
   ]
  },
  {
   "cell_type": "code",
   "execution_count": 17,
   "id": "1eba5a96",
   "metadata": {},
   "outputs": [
    {
     "name": "stdout",
     "output_type": "stream",
     "text": [
      "{'positive': 0.0028896566946059465, 'negative': 0.9971103668212891}\n",
      "neg\n"
     ]
    }
   ],
   "source": [
    "print(doc.cats)\n",
    "print(label_true)"
   ]
  }
 ],
 "metadata": {
  "kernelspec": {
   "display_name": "Python 3 (ipykernel)",
   "language": "python",
   "name": "python3"
  },
  "language_info": {
   "codemirror_mode": {
    "name": "ipython",
    "version": 3
   },
   "file_extension": ".py",
   "mimetype": "text/x-python",
   "name": "python",
   "nbconvert_exporter": "python",
   "pygments_lexer": "ipython3",
   "version": "3.10.6"
  }
 },
 "nbformat": 4,
 "nbformat_minor": 5
}
