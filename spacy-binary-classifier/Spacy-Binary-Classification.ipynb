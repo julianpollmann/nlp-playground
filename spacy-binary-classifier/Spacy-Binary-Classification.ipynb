{
 "cells": [
  {
   "cell_type": "code",
   "execution_count": 1,
   "id": "09dfb45c",
   "metadata": {},
   "outputs": [],
   "source": [
    "from spacy.tokens import DocBin\n",
    "from ml_datasets import imdb\n",
    "from tqdm import tqdm\n",
    "import matplotlib.pyplot as plt\n",
    "import spacy\n",
    "import pandas as pd\n",
    "import seaborn as sns"
   ]
  },
  {
   "cell_type": "code",
   "execution_count": 2,
   "id": "218c372b",
   "metadata": {},
   "outputs": [],
   "source": [
    "train_data, valid_data = imdb()"
   ]
  },
  {
   "cell_type": "code",
   "execution_count": 3,
   "id": "346b2a77",
   "metadata": {},
   "outputs": [],
   "source": [
    "df_train = pd.DataFrame(train_data, columns =['Review', 'Sentiment'])\n",
    "df_validation = pd.DataFrame(valid_data, columns =['Review', 'Sentiment'])"
   ]
  },
  {
   "cell_type": "code",
   "execution_count": 4,
   "id": "3299d7e0",
   "metadata": {
    "scrolled": true
   },
   "outputs": [
    {
     "data": {
      "text/html": [
       "<div>\n",
       "<style scoped>\n",
       "    .dataframe tbody tr th:only-of-type {\n",
       "        vertical-align: middle;\n",
       "    }\n",
       "\n",
       "    .dataframe tbody tr th {\n",
       "        vertical-align: top;\n",
       "    }\n",
       "\n",
       "    .dataframe thead th {\n",
       "        text-align: right;\n",
       "    }\n",
       "</style>\n",
       "<table border=\"1\" class=\"dataframe\">\n",
       "  <thead>\n",
       "    <tr style=\"text-align: right;\">\n",
       "      <th></th>\n",
       "      <th>Review</th>\n",
       "      <th>Sentiment</th>\n",
       "    </tr>\n",
       "  </thead>\n",
       "  <tbody>\n",
       "    <tr>\n",
       "      <th>0</th>\n",
       "      <td>The documentary revolves around Eva Mozes Kor, a holocaust survivor, part of Mengele's experiments on twins, consisting primarily her version of what happened at Auschwitz, and a comparison of the emotions of the other survivors of the twin experiments. The movie obviously had great reviews. It's one of those topics that no one dares to voice a contrary opinion about.\\n\\n\\n\\nI too, for a large part of the movie, got sucked into the emotion that the movie-maker so obviously wanted the viewer to concentrate on. One of the user reviews on IMDb by Eric Monder (obviously having nothing critical to say about the issue on a public forum) could only find the sweetest nectar. \"In one of the many dramatic sequences, as a group of Jews argue with Kor at a Jewish center, the meaning of the word \"forgive\" is even debated, but the isolated and outnumbered Kor holds her own\" But by this time, the sappy hold that the movie had on my dormant emotional repertoire had let loose enough that I could see clearly once more. After the \"strong-willed\" Eva Kor forgives her \"Nazi captors\" the movie begins to delve into what forgiving is all about, at least from the viewpoint of Kor. The movie goes about following her, past her public statement forgiving the Nazis and into new territory. To me, this was the meat of the movie, surrounded by inedible fat of her \"act of forgiveness\". Obviously, it was a very sick cow.\\n\\n\\n\\nOn a mission to test her theory of forgiveness, in order to heal wounds of the past, she makes her way to the \"promised land\" to meet with some Arabs, to discuss with them the issues that they face and to see if dialogue cannot lead to a better understanding of the situation and heavily interspersed with debates and discussions with Jews in the US on her act of forgiving the Nazis, including one at a Jewish center in Chicago. From then on, anyone not so teary eyed that they can't see the screen will find it hard-pressed to miss the obvious contradiction in her statements.\\n\\n\\n\\nFirstly, you immediately notice her body language, defensive and unwilling to listen in a room full of Arab scholars and teachers. Her comments about how she feared that they might kidnap her shows how much of a waste of time, effort and money the entire act was. A rather annoyed Dr Sami Advan (Professor of education at Bethlehem University) gets it just right when he tells Kor off for a statement she makes about how she would rather be asleep in her apartment.\\n\\n\\n\\nFinally, the debate at the Jewish center in Chicago, where she is \"grilled\" on the meaning of forgiveness and her right to do so, in the wake of those that continue suffering through the trauma of the acts.\\n\\n\\n\\nI will cut to the chase. By the end of the movie, I was hoping I hadn't chosen to watch the movie. The movie was badly made, failing to delve deeper into anything about Auschwitz apart from the purely trivial, just sufficient to make sure the holocaust is refreshed in the viewers memory and to incite a barrage of tears. It showed that Kor, the subject of the documentary was unable to engage in fair discussion. Her discussion abilities were limited to parroting her stance on forgiveness (at best) to a complete unwillingness to listen or participate.\\n\\n\\n\\nLastly, is everyone so retarded today that they can't notice the difference between making peace and forgiving? Quoting another IMDb user, \"I don't see her forgiveness as being weak- quite the contrary, she just wanted to relieve its hold from her soul, she wanted the suffering to be over, so she let it go.\" That would be the perfect layman's definition of MAKING PEACE.\\n\\n\\n\\nI guess, in a world of propaganda, blind faith and political correctness, there is no room to question those that have \"gone through more than the human mind can fathom\".\\n\\n\\n\\nP.S. The dictionary certainly should go into all those Books-to-buy lists everyone keeps making.</td>\n",
       "      <td>neg</td>\n",
       "    </tr>\n",
       "    <tr>\n",
       "      <th>1</th>\n",
       "      <td>There was a stylish approach to this film on the part of director Vincenzo Natali with interesting camera angles and effective close-ups. It was also refreshing to see Jeremy Northam and Lucy Liu given leading roles and expanding their range as performers. This film also included one of the most imaginative \"escape\" scenes in recent years. The efforts of the director and the actors combined in an effective thriller.\\n\\n\\n\\nAlthough the plotting of the film was convoluted, the story progressed very clearly as the layers of corporate greed and skullduggery were revealed.\\n\\n\\n\\nIn 1949, George Orwell suggested in his famous novel \"1984\" that the future would be ruled by the totalitarian State, which would control minds and diminish human liberty. It was interesting that in this intriguing futuristic film, it was not the State, but rather the corporate world that controlled and devalued the human worker.</td>\n",
       "      <td>pos</td>\n",
       "    </tr>\n",
       "    <tr>\n",
       "      <th>2</th>\n",
       "      <td>...and I love it. Lots of special effects, and for a movie that's not made on mega budget, this movie really does great job of creating a fantasy masterpiece. I'm one of the guys who didn't understand the story at all, but this was still a great flick to watch. It's definitely up there in standards surpassing Bored of the Rings, and on par with movies like Harry Potter. Which is saying a lot for a movie again, made on a fraction of the budget of these international hits.\\n\\n\\n\\nOne thing I really love about this movie is that it so stretches the envelope of adventure movie to come out of Hong Kong. The topic is exotic and original. Production quality is unlike anything seen coming out of HK for fantasy action movie, and acting is great.\\n\\n\\n\\nOne of the best movies to come out of Hong Kong, this is the Infernal Affairs of Hong Kong fantasy movie, and I hope they'll continue working in this area, until they surpass Hollywood adventure movies.\\n\\n\\n\\nJust fantastic.</td>\n",
       "      <td>pos</td>\n",
       "    </tr>\n",
       "    <tr>\n",
       "      <th>3</th>\n",
       "      <td>THE ZOMBIE CHRONICLES \\n\\n\\n\\nAspect ratio: 1.33:1 (Nu-View 3-D)\\n\\n\\n\\nSound format: Mono\\n\\n\\n\\nWhilst searching for a (literal) ghost town in the middle of nowhere, a young reporter (Emmy Smith) picks up a grizzled hitchhiker (Joseph Haggerty) who tells her two stories involving flesh-eating zombies reputed to haunt the area.\\n\\n\\n\\nAn ABSOLUTE waste of time, hobbled from the outset by Haggerty's painfully amateurish performance in a key role. Worse still, the two stories which make up the bulk of the running time are utterly routine, made worse by indifferent performances and lackluster direction by Brad Sykes, previously responsible for the likes of CAMP BLOOD (1999). This isn't a 'fun' movie in the sense that Ed Wood's movies are 'fun' (he, at least, believed in what he was doing and was sincere in his efforts, despite a lack of talent); Sykes' home-made movies are, in fact, aggravating, boring and almost completely devoid of any redeeming virtue, and most viewers will feel justifiably angry and cheated by such unimaginative, badly-conceived junk. The 3-D format is utterly wasted here.</td>\n",
       "      <td>neg</td>\n",
       "    </tr>\n",
       "    <tr>\n",
       "      <th>4</th>\n",
       "      <td>I saw this jolly little film at age 10/11 in 1979 when it was broadcast on CBS. I didn't know it had been in a theater at all. To rate it from a kids point of view I'd give it 4 out of 5 stars,because being a young boy at the time,it seemed a little \"girlish\".\\n\\n\\n\\nThe climactic scene where Gazooks tickles the daylights out of everyone was a bit disturbing at the time but you outgrow that sort of thing. \\n\\n\\n\\nWhen I re-discovered it a Blockbuster Video in 1995,I had to revisit it! I still liked it despite the fact that it looked a bit \"old\". I don't know where the other reviewer on here got the idea that it wasn't on VHS.\\n\\n\\n\\nIt's out there. Might even be on DVD by now,at least I hope it is. I want to share it with my kids someday! 10 stars on here,it's still a great kids film. (end)\\n\\n\\n\\n09/08/2009 : Finally found a VHS copy!! Woo-hoo!</td>\n",
       "      <td>pos</td>\n",
       "    </tr>\n",
       "  </tbody>\n",
       "</table>\n",
       "</div>"
      ],
      "text/plain": [
       "                                                                                                                                                                                                                                                                                                                                                                                                                                                                                                                                                                                                                                                                                                                                                                                                                                                                                                                                                                                                                                                                                                                                                                                                                                                                                                                                                                                                                                                                                                                                                                                                                                                                                                                                                                                                                                                                                                                                                                                                                                                                                                                                                                                                                                                                                                                                                                                                                                                                                                                                                                                                                                                                                                                                                                                                                                                                                                                                                                                                                                                                                                                                                                                                                                                                                                                                                                                                                                                                                                                                                                                                                                                                                                                                                                                                                                                                                                                                                                                                                                                                Review  \\\n",
       "0  The documentary revolves around Eva Mozes Kor, a holocaust survivor, part of Mengele's experiments on twins, consisting primarily her version of what happened at Auschwitz, and a comparison of the emotions of the other survivors of the twin experiments. The movie obviously had great reviews. It's one of those topics that no one dares to voice a contrary opinion about.\\n\\n\\n\\nI too, for a large part of the movie, got sucked into the emotion that the movie-maker so obviously wanted the viewer to concentrate on. One of the user reviews on IMDb by Eric Monder (obviously having nothing critical to say about the issue on a public forum) could only find the sweetest nectar. \"In one of the many dramatic sequences, as a group of Jews argue with Kor at a Jewish center, the meaning of the word \"forgive\" is even debated, but the isolated and outnumbered Kor holds her own\" But by this time, the sappy hold that the movie had on my dormant emotional repertoire had let loose enough that I could see clearly once more. After the \"strong-willed\" Eva Kor forgives her \"Nazi captors\" the movie begins to delve into what forgiving is all about, at least from the viewpoint of Kor. The movie goes about following her, past her public statement forgiving the Nazis and into new territory. To me, this was the meat of the movie, surrounded by inedible fat of her \"act of forgiveness\". Obviously, it was a very sick cow.\\n\\n\\n\\nOn a mission to test her theory of forgiveness, in order to heal wounds of the past, she makes her way to the \"promised land\" to meet with some Arabs, to discuss with them the issues that they face and to see if dialogue cannot lead to a better understanding of the situation and heavily interspersed with debates and discussions with Jews in the US on her act of forgiving the Nazis, including one at a Jewish center in Chicago. From then on, anyone not so teary eyed that they can't see the screen will find it hard-pressed to miss the obvious contradiction in her statements.\\n\\n\\n\\nFirstly, you immediately notice her body language, defensive and unwilling to listen in a room full of Arab scholars and teachers. Her comments about how she feared that they might kidnap her shows how much of a waste of time, effort and money the entire act was. A rather annoyed Dr Sami Advan (Professor of education at Bethlehem University) gets it just right when he tells Kor off for a statement she makes about how she would rather be asleep in her apartment.\\n\\n\\n\\nFinally, the debate at the Jewish center in Chicago, where she is \"grilled\" on the meaning of forgiveness and her right to do so, in the wake of those that continue suffering through the trauma of the acts.\\n\\n\\n\\nI will cut to the chase. By the end of the movie, I was hoping I hadn't chosen to watch the movie. The movie was badly made, failing to delve deeper into anything about Auschwitz apart from the purely trivial, just sufficient to make sure the holocaust is refreshed in the viewers memory and to incite a barrage of tears. It showed that Kor, the subject of the documentary was unable to engage in fair discussion. Her discussion abilities were limited to parroting her stance on forgiveness (at best) to a complete unwillingness to listen or participate.\\n\\n\\n\\nLastly, is everyone so retarded today that they can't notice the difference between making peace and forgiving? Quoting another IMDb user, \"I don't see her forgiveness as being weak- quite the contrary, she just wanted to relieve its hold from her soul, she wanted the suffering to be over, so she let it go.\" That would be the perfect layman's definition of MAKING PEACE.\\n\\n\\n\\nI guess, in a world of propaganda, blind faith and political correctness, there is no room to question those that have \"gone through more than the human mind can fathom\".\\n\\n\\n\\nP.S. The dictionary certainly should go into all those Books-to-buy lists everyone keeps making.   \n",
       "1                                                                                                                                                                                                                                                                                                                                                                                                                                                                                                                                                                                                                                                                                                                                                                                                                                                                                                                                                                                                                                                                                                                                                                                                                                                                                                                                                                                                                                                                                                                                                                                                                                                                                                                                                                                                                                                                                                                                                                                                                                                                                                                                                                                                                                                                                                                                                                                                                                                                                                                                                                                                                                                                                                                                                                                                                                                                                                                                                                                                                                                                                                                   There was a stylish approach to this film on the part of director Vincenzo Natali with interesting camera angles and effective close-ups. It was also refreshing to see Jeremy Northam and Lucy Liu given leading roles and expanding their range as performers. This film also included one of the most imaginative \"escape\" scenes in recent years. The efforts of the director and the actors combined in an effective thriller.\\n\\n\\n\\nAlthough the plotting of the film was convoluted, the story progressed very clearly as the layers of corporate greed and skullduggery were revealed.\\n\\n\\n\\nIn 1949, George Orwell suggested in his famous novel \"1984\" that the future would be ruled by the totalitarian State, which would control minds and diminish human liberty. It was interesting that in this intriguing futuristic film, it was not the State, but rather the corporate world that controlled and devalued the human worker.   \n",
       "2                                                                                                                                                                                                                                                                                                                                                                                                                                                                                                                                                                                                                                                                                                                                                                                                                                                                                                                                                                                                                                                                                                                                                                                                                                                                                                                                                                                                                                                                                                                                                                                                                                                                                                                                                                                                                                                                                                                                                                                                                                                                                                                                                                                                                                                                                                                                                                                                                                                                                                                                                                                                                                                                                                                                                                                                                                                                                                                                                                                                                                                  ...and I love it. Lots of special effects, and for a movie that's not made on mega budget, this movie really does great job of creating a fantasy masterpiece. I'm one of the guys who didn't understand the story at all, but this was still a great flick to watch. It's definitely up there in standards surpassing Bored of the Rings, and on par with movies like Harry Potter. Which is saying a lot for a movie again, made on a fraction of the budget of these international hits.\\n\\n\\n\\nOne thing I really love about this movie is that it so stretches the envelope of adventure movie to come out of Hong Kong. The topic is exotic and original. Production quality is unlike anything seen coming out of HK for fantasy action movie, and acting is great.\\n\\n\\n\\nOne of the best movies to come out of Hong Kong, this is the Infernal Affairs of Hong Kong fantasy movie, and I hope they'll continue working in this area, until they surpass Hollywood adventure movies.\\n\\n\\n\\nJust fantastic.   \n",
       "3                                                                                                                                                                                                                                                                                                                                                                                                                                                                                                                                                                                                                                                                                                                                                                                                                                                                                                                                                                                                                                                                                                                                                                                                                                                                                                                                                                                                                                                                                                                                                                                                                                                                                                                                                                                                                                                                                                                                                                                                                                                                                                                                                                                                                                                                                                                                                                                                                                                                                                                                                                                                                                                                                                                                                                                                                                                                                                                 THE ZOMBIE CHRONICLES \\n\\n\\n\\nAspect ratio: 1.33:1 (Nu-View 3-D)\\n\\n\\n\\nSound format: Mono\\n\\n\\n\\nWhilst searching for a (literal) ghost town in the middle of nowhere, a young reporter (Emmy Smith) picks up a grizzled hitchhiker (Joseph Haggerty) who tells her two stories involving flesh-eating zombies reputed to haunt the area.\\n\\n\\n\\nAn ABSOLUTE waste of time, hobbled from the outset by Haggerty's painfully amateurish performance in a key role. Worse still, the two stories which make up the bulk of the running time are utterly routine, made worse by indifferent performances and lackluster direction by Brad Sykes, previously responsible for the likes of CAMP BLOOD (1999). This isn't a 'fun' movie in the sense that Ed Wood's movies are 'fun' (he, at least, believed in what he was doing and was sincere in his efforts, despite a lack of talent); Sykes' home-made movies are, in fact, aggravating, boring and almost completely devoid of any redeeming virtue, and most viewers will feel justifiably angry and cheated by such unimaginative, badly-conceived junk. The 3-D format is utterly wasted here.   \n",
       "4                                                                                                                                                                                                                                                                                                                                                                                                                                                                                                                                                                                                                                                                                                                                                                                                                                                                                                                                                                                                                                                                                                                                                                                                                                                                                                                                                                                                                                                                                                                                                                                                                                                                                                                                                                                                                                                                                                                                                                                                                                                                                                                                                                                                                                                                                                                                                                                                                                                                                                                                                                                                                                                                                                                                                                                                                                                                                                                                                                                                                                                                                                                                                                            I saw this jolly little film at age 10/11 in 1979 when it was broadcast on CBS. I didn't know it had been in a theater at all. To rate it from a kids point of view I'd give it 4 out of 5 stars,because being a young boy at the time,it seemed a little \"girlish\".\\n\\n\\n\\nThe climactic scene where Gazooks tickles the daylights out of everyone was a bit disturbing at the time but you outgrow that sort of thing. \\n\\n\\n\\nWhen I re-discovered it a Blockbuster Video in 1995,I had to revisit it! I still liked it despite the fact that it looked a bit \"old\". I don't know where the other reviewer on here got the idea that it wasn't on VHS.\\n\\n\\n\\nIt's out there. Might even be on DVD by now,at least I hope it is. I want to share it with my kids someday! 10 stars on here,it's still a great kids film. (end)\\n\\n\\n\\n09/08/2009 : Finally found a VHS copy!! Woo-hoo!   \n",
       "\n",
       "  Sentiment  \n",
       "0       neg  \n",
       "1       pos  \n",
       "2       pos  \n",
       "3       neg  \n",
       "4       pos  "
      ]
     },
     "execution_count": 4,
     "metadata": {},
     "output_type": "execute_result"
    }
   ],
   "source": [
    "pd.set_option('display.max_colwidth', None)\n",
    "\n",
    "df_train.head()"
   ]
  },
  {
   "cell_type": "code",
   "execution_count": 5,
   "id": "06d4c87d",
   "metadata": {
    "scrolled": true
   },
   "outputs": [
    {
     "data": {
      "text/plain": [
       "<AxesSubplot: xlabel='Sentiment', ylabel='count'>"
      ]
     },
     "execution_count": 5,
     "metadata": {},
     "output_type": "execute_result"
    },
    {
     "data": {
      "image/png": "[encoded data removed]",
      "text/plain": [
       "<Figure size 640x480 with 1 Axes>"
      ]
     },
     "metadata": {},
     "output_type": "display_data"
    }
   ],
   "source": [
    "sns.countplot(x=df_train['Sentiment'])"
   ]
  },
  {
   "cell_type": "markdown",
   "id": "7ef681e3",
   "metadata": {},
   "source": [
    "## Preprocessing Text"
   ]
  },
  {
   "cell_type": "code",
   "execution_count": 6,
   "id": "60b815ad",
   "metadata": {},
   "outputs": [],
   "source": [
    "def remove_new_line(text):\n",
    "    return text.replace('\\n', ' ')"
   ]
  },
  {
   "cell_type": "code",
   "execution_count": 7,
   "id": "78d12f7e",
   "metadata": {},
   "outputs": [],
   "source": [
    "df_train['Review'] = df_train['Review'].apply(remove_new_line)\n",
    "df_validation['Review'] = df_validation['Review'].apply(remove_new_line)"
   ]
  },
  {
   "cell_type": "markdown",
   "id": "8d5be917",
   "metadata": {},
   "source": [
    "## Create spaCy Docs"
   ]
  },
  {
   "cell_type": "code",
   "execution_count": 8,
   "id": "a96a0501",
   "metadata": {},
   "outputs": [],
   "source": [
    "nlp = spacy.load('en_core_web_sm')"
   ]
  },
  {
   "cell_type": "code",
   "execution_count": 9,
   "id": "42de38f9",
   "metadata": {},
   "outputs": [],
   "source": [
    "def make_docs(dataframe):\n",
    "    docs = []\n",
    "    data = list(dataframe.itertuples(index=False, name=None))\n",
    "    \n",
    "    for doc, label in tqdm(nlp.pipe(data, as_tuples=True), total=len(data)):\n",
    "        if label == 'pos':\n",
    "            doc.cats['positive'] = 1\n",
    "            doc.cats['negative'] = 0\n",
    "        else:\n",
    "            doc.cats['positive'] = 0\n",
    "            doc.cats['negative'] = 1\n",
    "        docs.append(doc)\n",
    "    \n",
    "    return docs"
   ]
  },
  {
   "cell_type": "code",
   "execution_count": 10,
   "id": "3aa2ab92",
   "metadata": {
    "scrolled": true
   },
   "outputs": [
    {
     "name": "stderr",
     "output_type": "stream",
     "text": [
      "100%|██████████| 1000/1000 [00:27<00:00, 36.60it/s]\n",
      "100%|██████████| 1000/1000 [00:25<00:00, 38.92it/s]\n"
     ]
    }
   ],
   "source": [
    "training_number = 1000\n",
    "\n",
    "train_docs = make_docs(df_train[:training_number])\n",
    "doc_bin = DocBin(docs=train_docs)\n",
    "doc_bin.to_disk('./data/train.spacy')\n",
    "\n",
    "valid_docs = make_docs(df_validation[:training_number])\n",
    "doc_bin = DocBin(docs=valid_docs)\n",
    "doc_bin.to_disk('./data/valid.spacy')"
   ]
  },
  {
   "cell_type": "code",
   "execution_count": 11,
   "id": "1f7dc7c1",
   "metadata": {},
   "outputs": [],
   "source": [
    "token_length = []\n",
    "for review in train_docs:\n",
    "  token_length.append(len(review))"
   ]
  },
  {
   "cell_type": "code",
   "execution_count": 12,
   "id": "3ad8a63c",
   "metadata": {
    "scrolled": false
   },
   "outputs": [
    {
     "data": {
      "text/plain": [
       "<AxesSubplot: ylabel='Count'>"
      ]
     },
     "execution_count": 12,
     "metadata": {},
     "output_type": "execute_result"
    },
    {
     "data": {
      "image/png": "[encoded data removed]",
      "text/plain": [
       "<Figure size 640x480 with 1 Axes>"
      ]
     },
     "metadata": {},
     "output_type": "display_data"
    }
   ],
   "source": [
    "sns.histplot(token_length, kde=True)"
   ]
  },
  {
   "cell_type": "code",
   "execution_count": 13,
   "id": "ba991b10",
   "metadata": {},
   "outputs": [
    {
     "name": "stdout",
     "output_type": "stream",
     "text": [
      "22\n",
      "1167\n",
      "275.842\n",
      "204.0\n"
     ]
    }
   ],
   "source": [
    "from statistics import mean, median\n",
    "\n",
    "print(min(token_length))\n",
    "print(max(token_length))\n",
    "print(mean(token_length))\n",
    "print(median(token_length))"
   ]
  },
  {
   "cell_type": "markdown",
   "id": "6bfe00df",
   "metadata": {},
   "source": [
    "## Create Training Config\n",
    "Create a base config file using spaCy's [online config generator](https://spacy.io/usage/training#quickstart).\n",
    "Select `textcat` as Component and exclusive categories. Choosing exlucsive categories will lead to prediction of one and only one category. Leave Hardware as CPU since we're using a non-transformer architecture. Copy the generated config to `base_config.cfg`"
   ]
  },
  {
   "cell_type": "code",
   "execution_count": 14,
   "id": "88f98d74",
   "metadata": {},
   "outputs": [
    {
     "name": "stdout",
     "output_type": "stream",
     "text": [
      "\u001b[38;5;2m✔ Auto-filled config with all values\u001b[0m\r\n",
      "\u001b[38;5;2m✔ Saved config\u001b[0m\r\n",
      "config.cfg\r\n",
      "You can now add your data and train your pipeline:\r\n",
      "python -m spacy train config.cfg --paths.train ./train.spacy --paths.dev ./dev.spacy\r\n"
     ]
    }
   ],
   "source": [
    "!python -m spacy init fill-config ./base_config.cfg ./config.cfg"
   ]
  },
  {
   "cell_type": "code",
   "execution_count": 15,
   "id": "d9838934",
   "metadata": {},
   "outputs": [
    {
     "name": "stdout",
     "output_type": "stream",
     "text": [
      "\u001b[38;5;4mℹ Saving to output directory: output\u001b[0m\n",
      "\u001b[38;5;4mℹ Using CPU\u001b[0m\n",
      "\u001b[1m\n",
      "=========================== Initializing pipeline ===========================\u001b[0m\n",
      "[2022-10-10 12:25:11,318] [INFO] Set up nlp object from config\n",
      "[2022-10-10 12:25:11,324] [INFO] Pipeline: ['textcat']\n",
      "[2022-10-10 12:25:11,326] [INFO] Created vocabulary\n",
      "[2022-10-10 12:25:11,327] [INFO] Finished initializing nlp object\n",
      "[2022-10-10 12:25:14,515] [INFO] Initialized pipeline components: ['textcat']\n",
      "\u001b[38;5;2m✔ Initialized pipeline\u001b[0m\n",
      "\u001b[1m\n",
      "============================= Training pipeline =============================\u001b[0m\n",
      "\u001b[38;5;4mℹ Pipeline: ['textcat']\u001b[0m\n",
      "\u001b[38;5;4mℹ Initial learn rate: 0.001\u001b[0m\n",
      "E    #       LOSS TEXTCAT  CATS_SCORE  SCORE \n",
      "---  ------  ------------  ----------  ------\n",
      "  0       0          0.25       33.91    0.34\n",
      "  0     200         56.25       66.70    0.67\n",
      "  0     400         39.82       77.59    0.78\n",
      "  0     600         33.89       77.86    0.78\n",
      "  0     800         23.17       79.88    0.80\n",
      "  1    1000         23.17       78.10    0.78\n",
      "  1    1200          6.03       79.70    0.80\n",
      "  1    1400          1.24       80.89    0.81\n",
      "  1    1600          3.57       76.53    0.77\n",
      "  1    1800          5.35       81.31    0.81\n",
      "  2    2000          3.23       80.77    0.81\n",
      "  2    2200          0.54       80.38    0.80\n",
      "  2    2400          0.11       80.39    0.80\n",
      "  2    2600          0.31       80.94    0.81\n",
      "  2    2800          0.35       75.13    0.75\n",
      "  3    3000          0.11       80.78    0.81\n",
      "  3    3200          0.03       80.69    0.81\n",
      "  3    3400          0.02       81.10    0.81\n",
      "\u001b[38;5;2m✔ Saved pipeline to output directory\u001b[0m\n",
      "output/model-last\n"
     ]
    }
   ],
   "source": [
    "!python -m spacy train config.cfg --output ./output"
   ]
  },
  {
   "cell_type": "markdown",
   "id": "775ad638",
   "metadata": {},
   "source": [
    "## Testing"
   ]
  },
  {
   "cell_type": "code",
   "execution_count": 16,
   "id": "e1a7ac15",
   "metadata": {},
   "outputs": [],
   "source": [
    "nlp = spacy.load('./output/model-best')"
   ]
  },
  {
   "cell_type": "code",
   "execution_count": 17,
   "id": "d5dbd02d",
   "metadata": {},
   "outputs": [],
   "source": [
    "text = df_train.at[6000, 'Review']\n",
    "label_true = df_train.at[6000, 'Sentiment']"
   ]
  },
  {
   "cell_type": "code",
   "execution_count": 18,
   "id": "f13e5315",
   "metadata": {},
   "outputs": [],
   "source": [
    "doc = nlp(text)"
   ]
  },
  {
   "cell_type": "code",
   "execution_count": 19,
   "id": "25e12ce5",
   "metadata": {},
   "outputs": [
    {
     "data": {
      "text/plain": [
       "This is a kind of movie that will stay with you for a long time. Soha Ali and Abhay Deol both look very beautiful. Soha reminds you so much of her mother Sharmila Tagore. Abhay is a born actor and will rise a lot in the coming future.    The ending of the movie is very different from most movies. In a way you are left unsatisfied but if you really think about it in real terms, you realize that the only sensible ending was the ending shown in the movie. Otherwise, it would have been gross injustice to everyone.     The movie is about a professional witness who comes across a girl waiting to get married in court. Her boyfriend does not show up and she ends up being helped by the witness. Slowly slowly, over the time, he falls in love for her. It is not clear if she has similar feelings for him or not. Watch the movie for complete details.     The movie really belongs to Abhay. I look forward to seeing more movies from him. Soha is pretty but did not speak much in the movie. Her eyes, her innocence did most of the talking."
      ]
     },
     "execution_count": 19,
     "metadata": {},
     "output_type": "execute_result"
    }
   ],
   "source": [
    "doc"
   ]
  },
  {
   "cell_type": "code",
   "execution_count": 20,
   "id": "1eba5a96",
   "metadata": {},
   "outputs": [
    {
     "name": "stdout",
     "output_type": "stream",
     "text": [
      "{'positive': 0.9928078651428223, 'negative': 0.007192074786871672}\n",
      "pos\n"
     ]
    }
   ],
   "source": [
    "print(doc.cats)\n",
    "print(label_true)"
   ]
  },
  {
   "cell_type": "code",
   "execution_count": 29,
   "id": "34ed064f",
   "metadata": {},
   "outputs": [
    {
     "name": "stdout",
     "output_type": "stream",
     "text": [
      "159\n",
      "{'positive': 0.8549286127090454, 'negative': 0.14507141709327698}\n"
     ]
    }
   ],
   "source": [
    "doc = nlp(\"I love this movie. It is great. Blah Blah Blah Blah. Blah Blah Blah Blah.Blah Blah Blah Blah.Blah Blah Blah Blah.Blah Blah Blah Blah.Blah Blah Blah Blah.Blah Blah Blah Blah.Blah Blah Blah Blah.Blah Blah Blah Blah.Blah Blah Blah Blah.Blah Blah Blah Blah.Blah Blah Blah Blah.Blah Blah Blah Blah.Blah Blah Blah Blah.Blah Blah Blah Blah.Blah Blah Blah Blah.Blah Blah Blah Blah.Blah Blah Blah Blah.Blah Blah Blah Blah.Blah Blah Blah Blah.Blah Blah Blah BlahBlah Blah Blah BlahBlah Blah Blah Blah.Blah Blah Blah Blah.Blah Blah Blah Blah.Blah Blah Blah Blah.Blah Blah Blah Blah.Blah Blah Blah Blah.Blah Blah Blah Blah.Blah Blah Blah Blah.Blah Blah Blah Blah\")\n",
    "print(len(doc))\n",
    "print(doc.cats)"
   ]
  }
 ],
 "metadata": {
  "kernelspec": {
   "display_name": "Python 3 (ipykernel)",
   "language": "python",
   "name": "python3"
  },
  "language_info": {
   "codemirror_mode": {
    "name": "ipython",
    "version": 3
   },
   "file_extension": ".py",
   "mimetype": "text/x-python",
   "name": "python",
   "nbconvert_exporter": "python",
   "pygments_lexer": "ipython3",
   "version": "3.10.6"
  }
 },
 "nbformat": 4,
 "nbformat_minor": 5
}
